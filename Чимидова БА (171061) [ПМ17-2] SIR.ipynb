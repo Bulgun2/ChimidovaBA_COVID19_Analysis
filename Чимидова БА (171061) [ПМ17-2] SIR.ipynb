{
 "cells": [
  {
   "cell_type": "code",
   "execution_count": 48,
   "metadata": {
    "scrolled": true
   },
   "outputs": [
    {
     "name": "stdout",
     "output_type": "stream",
     "text": [
      "Collecting lightgbm\n",
      "  Downloading https://files.pythonhosted.org/packages/54/1d/8ca39f006ff5e4687742824c95799bff8e3c5d73046b561da6b46b3eb5d2/lightgbm-3.1.0-py2.py3-none-win_amd64.whl (751kB)\n",
      "Requirement already satisfied: scikit-learn!=0.22.0 in c:\\an\\lib\\site-packages (from lightgbm) (0.20.1)\n",
      "Requirement already satisfied: scipy in c:\\an\\lib\\site-packages (from lightgbm) (1.1.0)\n",
      "Requirement already satisfied: numpy in c:\\an\\lib\\site-packages (from lightgbm) (1.15.4)\n",
      "Installing collected packages: lightgbm\n",
      "Successfully installed lightgbm-3.1.0\n"
     ]
    }
   ],
   "source": [
    "!pip install lightgbm"
   ]
  },
  {
   "cell_type": "markdown",
   "metadata": {},
   "source": [
    "Необходимо установить следующие бибилиотеки"
   ]
  },
  {
   "cell_type": "code",
   "execution_count": 1,
   "metadata": {},
   "outputs": [],
   "source": [
    "import numpy as np \n",
    "import pandas as pd \n",
    "import matplotlib.pyplot as plt\n",
    "import seaborn as sns\n",
    "from sklearn import preprocessing\n",
    "import time\n",
    "from datetime import datetime\n",
    "from scipy import integrate, optimize\n",
    "import warnings\n",
    "warnings.filterwarnings('ignore')\n",
    "\n",
    "# ML libraries\n",
    "import lightgbm as lgb\n",
    "import xgboost as xgb\n",
    "from xgboost import plot_importance, plot_tree\n",
    "from sklearn.model_selection import RandomizedSearchCV, GridSearchCV\n",
    "from sklearn import linear_model\n",
    "from sklearn.metrics import mean_squared_log_error"
   ]
  },
  {
   "cell_type": "markdown",
   "metadata": {},
   "source": [
    "Загрузка таблицы"
   ]
  },
  {
   "cell_type": "code",
   "execution_count": 9,
   "metadata": {},
   "outputs": [
    {
     "data": {
      "text/html": [
       "<div>\n",
       "<style scoped>\n",
       "    .dataframe tbody tr th:only-of-type {\n",
       "        vertical-align: middle;\n",
       "    }\n",
       "\n",
       "    .dataframe tbody tr th {\n",
       "        vertical-align: top;\n",
       "    }\n",
       "\n",
       "    .dataframe thead th {\n",
       "        text-align: right;\n",
       "    }\n",
       "</style>\n",
       "<table border=\"1\" class=\"dataframe\">\n",
       "  <thead>\n",
       "    <tr style=\"text-align: right;\">\n",
       "      <th></th>\n",
       "      <th>Дата</th>\n",
       "      <th>Регион</th>\n",
       "      <th>Заражений</th>\n",
       "      <th>Выздоровлений</th>\n",
       "      <th>Смертей</th>\n",
       "      <th>Смертей за день</th>\n",
       "      <th>Заражений за день</th>\n",
       "      <th>Выздоровлений за день</th>\n",
       "    </tr>\n",
       "  </thead>\n",
       "  <tbody>\n",
       "    <tr>\n",
       "      <th>0</th>\n",
       "      <td>12.03.2020</td>\n",
       "      <td>Адыгея</td>\n",
       "      <td>0</td>\n",
       "      <td>0</td>\n",
       "      <td>0</td>\n",
       "      <td>0</td>\n",
       "      <td>0</td>\n",
       "      <td>0</td>\n",
       "    </tr>\n",
       "    <tr>\n",
       "      <th>1</th>\n",
       "      <td>12.03.2020</td>\n",
       "      <td>Алтайский край</td>\n",
       "      <td>0</td>\n",
       "      <td>0</td>\n",
       "      <td>0</td>\n",
       "      <td>0</td>\n",
       "      <td>0</td>\n",
       "      <td>0</td>\n",
       "    </tr>\n",
       "    <tr>\n",
       "      <th>2</th>\n",
       "      <td>12.03.2020</td>\n",
       "      <td>Амурская обл.</td>\n",
       "      <td>0</td>\n",
       "      <td>0</td>\n",
       "      <td>0</td>\n",
       "      <td>0</td>\n",
       "      <td>0</td>\n",
       "      <td>0</td>\n",
       "    </tr>\n",
       "    <tr>\n",
       "      <th>3</th>\n",
       "      <td>12.03.2020</td>\n",
       "      <td>Архангельская обл.</td>\n",
       "      <td>0</td>\n",
       "      <td>0</td>\n",
       "      <td>0</td>\n",
       "      <td>0</td>\n",
       "      <td>0</td>\n",
       "      <td>0</td>\n",
       "    </tr>\n",
       "    <tr>\n",
       "      <th>4</th>\n",
       "      <td>12.03.2020</td>\n",
       "      <td>Астраханская обл.</td>\n",
       "      <td>0</td>\n",
       "      <td>0</td>\n",
       "      <td>0</td>\n",
       "      <td>0</td>\n",
       "      <td>0</td>\n",
       "      <td>0</td>\n",
       "    </tr>\n",
       "  </tbody>\n",
       "</table>\n",
       "</div>"
      ],
      "text/plain": [
       "         Дата              Регион  Заражений  Выздоровлений  Смертей  \\\n",
       "0  12.03.2020              Адыгея          0              0        0   \n",
       "1  12.03.2020      Алтайский край          0              0        0   \n",
       "2  12.03.2020       Амурская обл.          0              0        0   \n",
       "3  12.03.2020  Архангельская обл.          0              0        0   \n",
       "4  12.03.2020   Астраханская обл.          0              0        0   \n",
       "\n",
       "   Смертей за день  Заражений за день  Выздоровлений за день  \n",
       "0                0                  0                      0  \n",
       "1                0                  0                      0  \n",
       "2                0                  0                      0  \n",
       "3                0                  0                      0  \n",
       "4                0                  0                      0  "
      ]
     },
     "execution_count": 9,
     "metadata": {},
     "output_type": "execute_result"
    }
   ],
   "source": [
    "covid_df = pd.read_csv('Table_2020-12-05_22-35.csv', sep = ';')\n",
    "covid_df.head(5)"
   ]
  },
  {
   "cell_type": "markdown",
   "metadata": {},
   "source": [
    "Для беспрепятственного использования среды Python, наименования столбцов были переименованы в свои аналоги на английском языке."
   ]
  },
  {
   "cell_type": "code",
   "execution_count": 10,
   "metadata": {},
   "outputs": [],
   "source": [
    "covid_df = covid_df.rename(columns = {'Дата': 'Date', 'Регион': 'Region', 'Заражений': 'Infected', 'Выздоровлений': 'Recovered',\n",
    "                                     'Смертей': 'Deaths', 'Смертей за день': 'Deaths per day', \n",
    "                                      'Заражений за день': 'Infected per day', 'Выздоровлений за день': 'Recovered per day'}, inplace = False)"
   ]
  },
  {
   "cell_type": "markdown",
   "metadata": {},
   "source": [
    "Извлекается информация по рассматриваемому региону \"Москва\""
   ]
  },
  {
   "cell_type": "code",
   "execution_count": 11,
   "metadata": {
    "scrolled": true
   },
   "outputs": [
    {
     "data": {
      "text/html": [
       "<div>\n",
       "<style scoped>\n",
       "    .dataframe tbody tr th:only-of-type {\n",
       "        vertical-align: middle;\n",
       "    }\n",
       "\n",
       "    .dataframe tbody tr th {\n",
       "        vertical-align: top;\n",
       "    }\n",
       "\n",
       "    .dataframe thead th {\n",
       "        text-align: right;\n",
       "    }\n",
       "</style>\n",
       "<table border=\"1\" class=\"dataframe\">\n",
       "  <thead>\n",
       "    <tr style=\"text-align: right;\">\n",
       "      <th></th>\n",
       "      <th>Date</th>\n",
       "      <th>Region</th>\n",
       "      <th>Infected</th>\n",
       "      <th>Recovered</th>\n",
       "      <th>Deaths</th>\n",
       "      <th>Deaths per day</th>\n",
       "      <th>Infected per day</th>\n",
       "      <th>Recovered per day</th>\n",
       "    </tr>\n",
       "  </thead>\n",
       "  <tbody>\n",
       "    <tr>\n",
       "      <th>40</th>\n",
       "      <td>12.03.2020</td>\n",
       "      <td>Москва</td>\n",
       "      <td>21</td>\n",
       "      <td>0</td>\n",
       "      <td>0</td>\n",
       "      <td>0</td>\n",
       "      <td>21</td>\n",
       "      <td>0</td>\n",
       "    </tr>\n",
       "    <tr>\n",
       "      <th>122</th>\n",
       "      <td>13.03.2020</td>\n",
       "      <td>Москва</td>\n",
       "      <td>26</td>\n",
       "      <td>0</td>\n",
       "      <td>0</td>\n",
       "      <td>0</td>\n",
       "      <td>5</td>\n",
       "      <td>0</td>\n",
       "    </tr>\n",
       "    <tr>\n",
       "      <th>204</th>\n",
       "      <td>14.03.2020</td>\n",
       "      <td>Москва</td>\n",
       "      <td>35</td>\n",
       "      <td>0</td>\n",
       "      <td>0</td>\n",
       "      <td>0</td>\n",
       "      <td>9</td>\n",
       "      <td>0</td>\n",
       "    </tr>\n",
       "    <tr>\n",
       "      <th>286</th>\n",
       "      <td>15.03.2020</td>\n",
       "      <td>Москва</td>\n",
       "      <td>35</td>\n",
       "      <td>1</td>\n",
       "      <td>0</td>\n",
       "      <td>0</td>\n",
       "      <td>0</td>\n",
       "      <td>1</td>\n",
       "    </tr>\n",
       "    <tr>\n",
       "      <th>368</th>\n",
       "      <td>16.03.2020</td>\n",
       "      <td>Москва</td>\n",
       "      <td>53</td>\n",
       "      <td>1</td>\n",
       "      <td>0</td>\n",
       "      <td>0</td>\n",
       "      <td>18</td>\n",
       "      <td>0</td>\n",
       "    </tr>\n",
       "  </tbody>\n",
       "</table>\n",
       "</div>"
      ],
      "text/plain": [
       "           Date  Region  Infected  Recovered  Deaths  Deaths per day  \\\n",
       "40   12.03.2020  Москва        21          0       0               0   \n",
       "122  13.03.2020  Москва        26          0       0               0   \n",
       "204  14.03.2020  Москва        35          0       0               0   \n",
       "286  15.03.2020  Москва        35          1       0               0   \n",
       "368  16.03.2020  Москва        53          1       0               0   \n",
       "\n",
       "     Infected per day  Recovered per day  \n",
       "40                 21                  0  \n",
       "122                 5                  0  \n",
       "204                 9                  0  \n",
       "286                 0                  1  \n",
       "368                18                  0  "
      ]
     },
     "execution_count": 11,
     "metadata": {},
     "output_type": "execute_result"
    }
   ],
   "source": [
    "covid_df = covid_df[covid_df.Region.str.contains('Москва',case=False)]\n",
    "covid_df.head(5)"
   ]
  },
  {
   "cell_type": "code",
   "execution_count": 7,
   "metadata": {},
   "outputs": [],
   "source": [
    "covid_df['Date'] = pd.to_datetime(covid_df['Date'])\n",
    "covid_df.set_index('Date', inplace=True)"
   ]
  },
  {
   "cell_type": "markdown",
   "metadata": {},
   "source": [
    "Описание используемых данных"
   ]
  },
  {
   "cell_type": "code",
   "execution_count": 5,
   "metadata": {
    "scrolled": true
   },
   "outputs": [
    {
     "data": {
      "text/html": [
       "<div>\n",
       "<style scoped>\n",
       "    .dataframe tbody tr th:only-of-type {\n",
       "        vertical-align: middle;\n",
       "    }\n",
       "\n",
       "    .dataframe tbody tr th {\n",
       "        vertical-align: top;\n",
       "    }\n",
       "\n",
       "    .dataframe thead th {\n",
       "        text-align: right;\n",
       "    }\n",
       "</style>\n",
       "<table border=\"1\" class=\"dataframe\">\n",
       "  <thead>\n",
       "    <tr style=\"text-align: right;\">\n",
       "      <th></th>\n",
       "      <th>Infected</th>\n",
       "      <th>Recovered</th>\n",
       "      <th>Deaths</th>\n",
       "      <th>Deaths per day</th>\n",
       "      <th>Infected per day</th>\n",
       "      <th>Recovered per day</th>\n",
       "    </tr>\n",
       "  </thead>\n",
       "  <tbody>\n",
       "    <tr>\n",
       "      <th>count</th>\n",
       "      <td>269.000000</td>\n",
       "      <td>269.000000</td>\n",
       "      <td>269.000000</td>\n",
       "      <td>269.000000</td>\n",
       "      <td>269.000000</td>\n",
       "      <td>269.000000</td>\n",
       "    </tr>\n",
       "    <tr>\n",
       "      <th>mean</th>\n",
       "      <td>236628.739777</td>\n",
       "      <td>167671.260223</td>\n",
       "      <td>3861.758364</td>\n",
       "      <td>34.486989</td>\n",
       "      <td>2379.368030</td>\n",
       "      <td>1804.118959</td>\n",
       "    </tr>\n",
       "    <tr>\n",
       "      <th>std</th>\n",
       "      <td>157392.324253</td>\n",
       "      <td>127801.385582</td>\n",
       "      <td>2540.632648</td>\n",
       "      <td>25.723066</td>\n",
       "      <td>2160.568992</td>\n",
       "      <td>1718.005026</td>\n",
       "    </tr>\n",
       "    <tr>\n",
       "      <th>min</th>\n",
       "      <td>21.000000</td>\n",
       "      <td>0.000000</td>\n",
       "      <td>0.000000</td>\n",
       "      <td>0.000000</td>\n",
       "      <td>0.000000</td>\n",
       "      <td>0.000000</td>\n",
       "    </tr>\n",
       "    <tr>\n",
       "      <th>25%</th>\n",
       "      <td>146062.000000</td>\n",
       "      <td>28913.000000</td>\n",
       "      <td>1580.000000</td>\n",
       "      <td>12.000000</td>\n",
       "      <td>680.000000</td>\n",
       "      <td>632.000000</td>\n",
       "    </tr>\n",
       "    <tr>\n",
       "      <th>50%</th>\n",
       "      <td>236616.000000</td>\n",
       "      <td>173854.000000</td>\n",
       "      <td>4375.000000</td>\n",
       "      <td>28.000000</td>\n",
       "      <td>1359.000000</td>\n",
       "      <td>1235.000000</td>\n",
       "    </tr>\n",
       "    <tr>\n",
       "      <th>75%</th>\n",
       "      <td>290293.000000</td>\n",
       "      <td>247301.000000</td>\n",
       "      <td>5203.000000</td>\n",
       "      <td>58.000000</td>\n",
       "      <td>4174.000000</td>\n",
       "      <td>2427.000000</td>\n",
       "    </tr>\n",
       "    <tr>\n",
       "      <th>max</th>\n",
       "      <td>640050.000000</td>\n",
       "      <td>485308.000000</td>\n",
       "      <td>9277.000000</td>\n",
       "      <td>78.000000</td>\n",
       "      <td>7993.000000</td>\n",
       "      <td>8033.000000</td>\n",
       "    </tr>\n",
       "  </tbody>\n",
       "</table>\n",
       "</div>"
      ],
      "text/plain": [
       "            Infected      Recovered       Deaths  Deaths per day  \\\n",
       "count     269.000000     269.000000   269.000000      269.000000   \n",
       "mean   236628.739777  167671.260223  3861.758364       34.486989   \n",
       "std    157392.324253  127801.385582  2540.632648       25.723066   \n",
       "min        21.000000       0.000000     0.000000        0.000000   \n",
       "25%    146062.000000   28913.000000  1580.000000       12.000000   \n",
       "50%    236616.000000  173854.000000  4375.000000       28.000000   \n",
       "75%    290293.000000  247301.000000  5203.000000       58.000000   \n",
       "max    640050.000000  485308.000000  9277.000000       78.000000   \n",
       "\n",
       "       Infected per day  Recovered per day  \n",
       "count        269.000000         269.000000  \n",
       "mean        2379.368030        1804.118959  \n",
       "std         2160.568992        1718.005026  \n",
       "min            0.000000           0.000000  \n",
       "25%          680.000000         632.000000  \n",
       "50%         1359.000000        1235.000000  \n",
       "75%         4174.000000        2427.000000  \n",
       "max         7993.000000        8033.000000  "
      ]
     },
     "execution_count": 5,
     "metadata": {},
     "output_type": "execute_result"
    }
   ],
   "source": [
    "covid_df.describe()"
   ]
  },
  {
   "cell_type": "markdown",
   "metadata": {},
   "source": [
    "Построение графиков динамики случаев заражения и летальных исходов."
   ]
  },
  {
   "cell_type": "code",
   "execution_count": 43,
   "metadata": {},
   "outputs": [
    {
     "data": {
      "image/png": "[encoded data removed]",
      "text/plain": [
       "<Figure size 576x288 with 1 Axes>"
      ]
     },
     "metadata": {
      "needs_background": "light"
     },
     "output_type": "display_data"
    }
   ],
   "source": [
    "plt.rcParams[\"figure.figsize\"]=8,4  \n",
    "# Plot column 'Confirmed'\n",
    "covid_df.plot(kind = 'bar', x = 'Date', y = 'Infected per day', color = 'blue')\n",
    "\n",
    "ax1 = plt.gca()\n",
    "ax1 = plt.axes()\n",
    "x_axis = ax1.axes.get_xaxis()\n",
    "x_axis.set_visible(False)\n",
    "plt.show()\n",
    "plt.close()"
   ]
  },
  {
   "cell_type": "code",
   "execution_count": 41,
   "metadata": {},
   "outputs": [
    {
     "data": {
      "image/png": "[encoded data removed]",
      "text/plain": [
       "<Figure size 576x288 with 1 Axes>"
      ]
     },
     "metadata": {
      "needs_background": "light"
     },
     "output_type": "display_data"
    }
   ],
   "source": [
    "plt.rcParams[\"figure.figsize\"]=8,4  \n",
    "ax1 = plt.gca()\n",
    "covid_df.plot(kind = 'bar', x = 'Date', y = 'Deaths', color = 'red', ax = ax1)\n",
    "ax1 = plt.axes()\n",
    "x_axis = ax1.axes.get_xaxis()\n",
    "x_axis.set_visible(False)\n",
    "plt.show()\n",
    "plt.close()"
   ]
  },
  {
   "cell_type": "code",
   "execution_count": 28,
   "metadata": {},
   "outputs": [],
   "source": [
    "# Susceptible equation\n",
    "def fa(N, a, b, beta):\n",
    "    fa = -beta*a*b\n",
    "    return fa\n",
    "\n",
    "# Infected equation\n",
    "def fb(N, a, b, beta, gamma):\n",
    "    fb = beta*a*b - gamma*b\n",
    "    return fb\n",
    "\n",
    "# Recovered/deceased equation\n",
    "def fc(N, b, gamma):\n",
    "    fc = gamma*b\n",
    "    return fc"
   ]
  },
  {
   "cell_type": "code",
   "execution_count": 29,
   "metadata": {},
   "outputs": [],
   "source": [
    "# Runge-Kutta method of 4rth order for 3 dimensions (susceptible a, infected b and recovered r)\n",
    "def rK4(N, a, b, c, fa, fb, fc, beta, gamma, hs):\n",
    "    a1 = fa(N, a, b, beta)*hs\n",
    "    b1 = fb(N, a, b, beta, gamma)*hs\n",
    "    c1 = fc(N, b, gamma)*hs\n",
    "    ak = a + a1*0.5\n",
    "    bk = b + b1*0.5\n",
    "    ck = c + c1*0.5\n",
    "    a2 = fa(N, ak, bk, beta)*hs\n",
    "    b2 = fb(N, ak, bk, beta, gamma)*hs\n",
    "    c2 = fc(N, bk, gamma)*hs\n",
    "    ak = a + a2*0.5\n",
    "    bk = b + b2*0.5\n",
    "    ck = c + c2*0.5\n",
    "    a3 = fa(N, ak, bk, beta)*hs\n",
    "    b3 = fb(N, ak, bk, beta, gamma)*hs\n",
    "    c3 = fc(N, bk, gamma)*hs\n",
    "    ak = a + a3\n",
    "    bk = b + b3\n",
    "    ck = c + c3\n",
    "    a4 = fa(N, ak, bk, beta)*hs\n",
    "    b4 = fb(N, ak, bk, beta, gamma)*hs\n",
    "    c4 = fc(N, bk, gamma)*hs\n",
    "    a = a + (a1 + 2*(a2 + a3) + a4)/6\n",
    "    b = b + (b1 + 2*(b2 + b3) + b4)/6\n",
    "    c = c + (c1 + 2*(c2 + c3) + c4)/6\n",
    "    return a, b, c"
   ]
  },
  {
   "cell_type": "code",
   "execution_count": 30,
   "metadata": {},
   "outputs": [],
   "source": [
    "def SIR(N, b0, beta, gamma, hs):\n",
    "    \n",
    "    \"\"\"\n",
    "    N = total number of population\n",
    "    beta = transition rate S->I\n",
    "    gamma = transition rate I->R\n",
    "    k =  denotes the constant degree distribution of the network (average value for networks in which \n",
    "    the probability of finding a node with a different connectivity decays exponentially fast\n",
    "    hs = jump step of the numerical integration\n",
    "    \"\"\"\n",
    "    \n",
    "    # Initial condition\n",
    "    a = float(N-1)/N -b0\n",
    "    b = float(1)/N +b0\n",
    "    c = 0.\n",
    "    \n",
    "    sus, inf, rec= [],[],[]\n",
    "    for i in range(10000): # Run for a certain number of time-steps\n",
    "        sus.append(a)\n",
    "        inf.append(b)\n",
    "        rec.append(c)\n",
    "        a,b,c = rK4(N, a, b, c, fa, fb, fc, beta, gamma, hs)\n",
    "\n",
    "    return sus, inf, rec"
   ]
  },
  {
   "cell_type": "code",
   "execution_count": 31,
   "metadata": {},
   "outputs": [
    {
     "data": {
      "image/png": "[encoded data removed]",
      "text/plain": [
       "<Figure size 576x360 with 1 Axes>"
      ]
     },
     "metadata": {
      "needs_background": "light"
     },
     "output_type": "display_data"
    }
   ],
   "source": [
    "# Parameters of the model\n",
    "N = 7800*(10**6)\n",
    "b0 = 0\n",
    "beta = 0.7\n",
    "gamma = 0.2\n",
    "hs = 0.1\n",
    "\n",
    "sus, inf, rec = SIR(N, b0, beta, gamma, hs)\n",
    "\n",
    "f = plt.figure(figsize=(8,5)) \n",
    "plt.plot(sus, 'b.', label='susceptible');\n",
    "plt.plot(inf, 'r.', label='infected');\n",
    "plt.plot(rec, 'c.', label='recovered/deceased');\n",
    "plt.title(\"SIR model\")\n",
    "plt.xlabel(\"time\", fontsize=10);\n",
    "plt.ylabel(\"Fraction of population\", fontsize=10);\n",
    "plt.legend(loc='best')\n",
    "plt.xlim(0,1000)\n",
    "plt.show()"
   ]
  },
  {
   "cell_type": "code",
   "execution_count": 58,
   "metadata": {
    "scrolled": true
   },
   "outputs": [
    {
     "data": {
      "image/png": "[encoded data removed]",
      "text/plain": [
       "<Figure size 576x288 with 1 Axes>"
      ]
     },
     "metadata": {
      "needs_background": "light"
     },
     "output_type": "display_data"
    },
    {
     "name": "stdout",
     "output_type": "stream",
     "text": [
      "Optimal parameters: beta = 4.295130523461259  and gamma =  4.1681688124339376\n"
     ]
    }
   ],
   "source": [
    "population = float(12678079)\n",
    "country_df = pd.DataFrame()\n",
    "country_df['ConfirmedCases'] = covid_df.loc[covid_df['Region']=='Москва'].Infected.diff().fillna(0)\n",
    "country_df = country_df[10:80]\n",
    "country_df['day_count'] = list(range(1,len(country_df)+1))\n",
    "\n",
    "ydata = [i for i in country_df.ConfirmedCases]\n",
    "xdata = country_df.day_count\n",
    "ydata = np.array(ydata, dtype=float)\n",
    "xdata = np.array(xdata, dtype=float)\n",
    "\n",
    "N = population\n",
    "inf0 = ydata[0]\n",
    "sus0 = N - inf0\n",
    "rec0 = 0.0\n",
    "\n",
    "def sir_model(y, x, beta, gamma):\n",
    "    sus = -beta * y[0] * y[1] / N\n",
    "    rec = gamma * y[1]\n",
    "    inf = -(sus + rec)\n",
    "    return sus, inf, rec\n",
    "\n",
    "def fit_odeint(x, beta, gamma):\n",
    "    return integrate.odeint(sir_model, (sus0, inf0, rec0), x, args=(beta, gamma))[:,1]\n",
    "\n",
    "popt, pcov = optimize.curve_fit(fit_odeint, xdata, ydata)\n",
    "fitted = fit_odeint(xdata, *popt)\n",
    "\n",
    "plt.plot(xdata, ydata, 'o')\n",
    "plt.plot(xdata, fitted)\n",
    "plt.title(\"Fit of SIR model for Moscow infected cases\")\n",
    "plt.ylabel(\"Population infected\")\n",
    "plt.xlabel(\"Days\")\n",
    "plt.show()\n",
    "print(\"Optimal parameters: beta =\", popt[0], \" and gamma = \", popt[1])"
   ]
  },
  {
   "cell_type": "code",
   "execution_count": 59,
   "metadata": {},
   "outputs": [
    {
     "data": {
      "text/plain": [
       "0.14424905121676135"
      ]
     },
     "execution_count": 59,
     "metadata": {},
     "output_type": "execute_result"
    }
   ],
   "source": [
    "mean_squared_log_error(ydata, fitted)"
   ]
  }
 ],
 "metadata": {
  "kernelspec": {
   "display_name": "Python 3",
   "language": "python",
   "name": "python3"
  },
  "language_info": {
   "codemirror_mode": {
    "name": "ipython",
    "version": 3
   },
   "file_extension": ".py",
   "mimetype": "text/x-python",
   "name": "python",
   "nbconvert_exporter": "python",
   "pygments_lexer": "ipython3",
   "version": "3.7.1"
  }
 },
 "nbformat": 4,
 "nbformat_minor": 2
}
